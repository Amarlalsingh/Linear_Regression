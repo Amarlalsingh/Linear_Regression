{
  "nbformat": 4,
  "nbformat_minor": 0,
  "metadata": {
    "colab": {
      "name": "Linear_regression.ipynb",
      "provenance": [],
      "authorship_tag": "ABX9TyP9+4HoGDgORrsxGXlgnuYu",
      "include_colab_link": true
    },
    "kernelspec": {
      "name": "python3",
      "display_name": "Python 3"
    }
  },
  "cells": [
    {
      "cell_type": "markdown",
      "metadata": {
        "id": "view-in-github",
        "colab_type": "text"
      },
      "source": [
        "<a href=\"https://colab.research.google.com/github/Amarlalsingh/Linear_Regression/blob/master/Linear_regression.ipynb\" target=\"_parent\"><img src=\"https://colab.research.google.com/assets/colab-badge.svg\" alt=\"Open In Colab\"/></a>"
      ]
    },
    {
      "cell_type": "code",
      "metadata": {
        "id": "BWAttltRJpui",
        "colab_type": "code",
        "colab": {}
      },
      "source": [
        "from google.colab import drive\n",
        "drive.mount('/content/drive')"
      ],
      "execution_count": null,
      "outputs": []
    },
    {
      "cell_type": "code",
      "metadata": {
        "id": "V-KNM3Bz2-eU",
        "colab_type": "code",
        "colab": {
          "base_uri": "https://localhost:8080/",
          "height": 53
        },
        "outputId": "c8401a27-2558-45d1-8bd0-3edf8ae16355"
      },
      "source": [
        "%matplotlib inline   \n",
        "\"\"\"To set this up, before any plotting or import of matplotlib is performed you must \n",
        "execute the %matplotlib magic command. \n",
        "This performs the necessary behind-the-scenes setup for IPython to work correctly hand in hand with matplotlib;\"\"\""
      ],
      "execution_count": null,
      "outputs": [
        {
          "output_type": "execute_result",
          "data": {
            "text/plain": [
              "'To set this up, before any plotting or import of matplotlib is performed you must \\nexecute the %matplotlib magic command. \\nThis performs the necessary behind-the-scenes setup for IPython to work correctly hand in hand with matplotlib;'"
            ]
          },
          "metadata": {
            "tags": []
          },
          "execution_count": 3
        }
      ]
    },
    {
      "cell_type": "code",
      "metadata": {
        "id": "5gYQ5hs22-iv",
        "colab_type": "code",
        "colab": {}
      },
      "source": [
        "import numpy as np\n",
        "import pandas as pd\n",
        "import matplotlib.pyplot as plt"
      ],
      "execution_count": null,
      "outputs": []
    },
    {
      "cell_type": "code",
      "metadata": {
        "id": "xmKLXWuo2-uO",
        "colab_type": "code",
        "colab": {
          "base_uri": "https://localhost:8080/",
          "height": 213
        },
        "outputId": "9d6264ff-d772-4240-95ea-b0839fe903d9"
      },
      "source": [
        "# Reading data\n",
        "data=pd.read_csv('/content/drive/My Drive/Datasets/head_brain /datasets_56097_107686_headbrain.csv')\n",
        "print(data.shape)\n",
        "data.head()"
      ],
      "execution_count": null,
      "outputs": [
        {
          "output_type": "stream",
          "text": [
            "(237, 4)\n"
          ],
          "name": "stdout"
        },
        {
          "output_type": "execute_result",
          "data": {
            "text/html": [
              "<div>\n",
              "<style scoped>\n",
              "    .dataframe tbody tr th:only-of-type {\n",
              "        vertical-align: middle;\n",
              "    }\n",
              "\n",
              "    .dataframe tbody tr th {\n",
              "        vertical-align: top;\n",
              "    }\n",
              "\n",
              "    .dataframe thead th {\n",
              "        text-align: right;\n",
              "    }\n",
              "</style>\n",
              "<table border=\"1\" class=\"dataframe\">\n",
              "  <thead>\n",
              "    <tr style=\"text-align: right;\">\n",
              "      <th></th>\n",
              "      <th>Gender</th>\n",
              "      <th>Age Range</th>\n",
              "      <th>Head Size(cm^3)</th>\n",
              "      <th>Brain Weight(grams)</th>\n",
              "    </tr>\n",
              "  </thead>\n",
              "  <tbody>\n",
              "    <tr>\n",
              "      <th>0</th>\n",
              "      <td>1</td>\n",
              "      <td>1</td>\n",
              "      <td>4512</td>\n",
              "      <td>1530</td>\n",
              "    </tr>\n",
              "    <tr>\n",
              "      <th>1</th>\n",
              "      <td>1</td>\n",
              "      <td>1</td>\n",
              "      <td>3738</td>\n",
              "      <td>1297</td>\n",
              "    </tr>\n",
              "    <tr>\n",
              "      <th>2</th>\n",
              "      <td>1</td>\n",
              "      <td>1</td>\n",
              "      <td>4261</td>\n",
              "      <td>1335</td>\n",
              "    </tr>\n",
              "    <tr>\n",
              "      <th>3</th>\n",
              "      <td>1</td>\n",
              "      <td>1</td>\n",
              "      <td>3777</td>\n",
              "      <td>1282</td>\n",
              "    </tr>\n",
              "    <tr>\n",
              "      <th>4</th>\n",
              "      <td>1</td>\n",
              "      <td>1</td>\n",
              "      <td>4177</td>\n",
              "      <td>1590</td>\n",
              "    </tr>\n",
              "  </tbody>\n",
              "</table>\n",
              "</div>"
            ],
            "text/plain": [
              "   Gender  Age Range  Head Size(cm^3)  Brain Weight(grams)\n",
              "0       1          1             4512                 1530\n",
              "1       1          1             3738                 1297\n",
              "2       1          1             4261                 1335\n",
              "3       1          1             3777                 1282\n",
              "4       1          1             4177                 1590"
            ]
          },
          "metadata": {
            "tags": []
          },
          "execution_count": 6
        }
      ]
    },
    {
      "cell_type": "code",
      "metadata": {
        "id": "2KrSNhV92-1f",
        "colab_type": "code",
        "colab": {
          "base_uri": "https://localhost:8080/",
          "height": 184
        },
        "outputId": "6964ff78-33eb-4c61-a5ba-f49d2fa47408"
      },
      "source": [
        "#collecting x and y\n",
        "X=data['Head Size(cm^3)'].values\n",
        "Y=data['Brain Weight(grams)'].values\n",
        "for i in range(10):\n",
        "  print(X[i],Y[i])\n"
      ],
      "execution_count": null,
      "outputs": [
        {
          "output_type": "stream",
          "text": [
            "4512 1530\n",
            "3738 1297\n",
            "4261 1335\n",
            "3777 1282\n",
            "4177 1590\n",
            "3585 1300\n",
            "3785 1400\n",
            "3559 1255\n",
            "3613 1355\n",
            "3982 1375\n"
          ],
          "name": "stdout"
        }
      ]
    },
    {
      "cell_type": "code",
      "metadata": {
        "id": "k70BaNkH2-7t",
        "colab_type": "code",
        "colab": {
          "base_uri": "https://localhost:8080/",
          "height": 286
        },
        "outputId": "dfcea1d4-a34f-4db0-91ad-0d3385ef8c99"
      },
      "source": [
        "data.describe()"
      ],
      "execution_count": null,
      "outputs": [
        {
          "output_type": "execute_result",
          "data": {
            "text/html": [
              "<div>\n",
              "<style scoped>\n",
              "    .dataframe tbody tr th:only-of-type {\n",
              "        vertical-align: middle;\n",
              "    }\n",
              "\n",
              "    .dataframe tbody tr th {\n",
              "        vertical-align: top;\n",
              "    }\n",
              "\n",
              "    .dataframe thead th {\n",
              "        text-align: right;\n",
              "    }\n",
              "</style>\n",
              "<table border=\"1\" class=\"dataframe\">\n",
              "  <thead>\n",
              "    <tr style=\"text-align: right;\">\n",
              "      <th></th>\n",
              "      <th>Gender</th>\n",
              "      <th>Age Range</th>\n",
              "      <th>Head Size(cm^3)</th>\n",
              "      <th>Brain Weight(grams)</th>\n",
              "    </tr>\n",
              "  </thead>\n",
              "  <tbody>\n",
              "    <tr>\n",
              "      <th>count</th>\n",
              "      <td>237.000000</td>\n",
              "      <td>237.000000</td>\n",
              "      <td>237.000000</td>\n",
              "      <td>237.000000</td>\n",
              "    </tr>\n",
              "    <tr>\n",
              "      <th>mean</th>\n",
              "      <td>1.434599</td>\n",
              "      <td>1.535865</td>\n",
              "      <td>3633.991561</td>\n",
              "      <td>1282.873418</td>\n",
              "    </tr>\n",
              "    <tr>\n",
              "      <th>std</th>\n",
              "      <td>0.496753</td>\n",
              "      <td>0.499768</td>\n",
              "      <td>365.261422</td>\n",
              "      <td>120.340446</td>\n",
              "    </tr>\n",
              "    <tr>\n",
              "      <th>min</th>\n",
              "      <td>1.000000</td>\n",
              "      <td>1.000000</td>\n",
              "      <td>2720.000000</td>\n",
              "      <td>955.000000</td>\n",
              "    </tr>\n",
              "    <tr>\n",
              "      <th>25%</th>\n",
              "      <td>1.000000</td>\n",
              "      <td>1.000000</td>\n",
              "      <td>3389.000000</td>\n",
              "      <td>1207.000000</td>\n",
              "    </tr>\n",
              "    <tr>\n",
              "      <th>50%</th>\n",
              "      <td>1.000000</td>\n",
              "      <td>2.000000</td>\n",
              "      <td>3614.000000</td>\n",
              "      <td>1280.000000</td>\n",
              "    </tr>\n",
              "    <tr>\n",
              "      <th>75%</th>\n",
              "      <td>2.000000</td>\n",
              "      <td>2.000000</td>\n",
              "      <td>3876.000000</td>\n",
              "      <td>1350.000000</td>\n",
              "    </tr>\n",
              "    <tr>\n",
              "      <th>max</th>\n",
              "      <td>2.000000</td>\n",
              "      <td>2.000000</td>\n",
              "      <td>4747.000000</td>\n",
              "      <td>1635.000000</td>\n",
              "    </tr>\n",
              "  </tbody>\n",
              "</table>\n",
              "</div>"
            ],
            "text/plain": [
              "           Gender   Age Range  Head Size(cm^3)  Brain Weight(grams)\n",
              "count  237.000000  237.000000       237.000000           237.000000\n",
              "mean     1.434599    1.535865      3633.991561          1282.873418\n",
              "std      0.496753    0.499768       365.261422           120.340446\n",
              "min      1.000000    1.000000      2720.000000           955.000000\n",
              "25%      1.000000    1.000000      3389.000000          1207.000000\n",
              "50%      1.000000    2.000000      3614.000000          1280.000000\n",
              "75%      2.000000    2.000000      3876.000000          1350.000000\n",
              "max      2.000000    2.000000      4747.000000          1635.000000"
            ]
          },
          "metadata": {
            "tags": []
          },
          "execution_count": 15
        }
      ]
    },
    {
      "cell_type": "code",
      "metadata": {
        "id": "HR6FWU1M2_Eb",
        "colab_type": "code",
        "colab": {
          "base_uri": "https://localhost:8080/",
          "height": 33
        },
        "outputId": "c758224b-2e60-4efc-ce20-bfe1472c48a5"
      },
      "source": [
        "meanx=np.mean(X)\n",
        "meany=np.mean(Y)\n",
        "print(meanx,meany)"
      ],
      "execution_count": null,
      "outputs": [
        {
          "output_type": "stream",
          "text": [
            "3633.9915611814345 1282.873417721519\n"
          ],
          "name": "stdout"
        }
      ]
    },
    {
      "cell_type": "code",
      "metadata": {
        "id": "LT64RuyP2_Bw",
        "colab_type": "code",
        "colab": {
          "base_uri": "https://localhost:8080/",
          "height": 33
        },
        "outputId": "873ffa37-0a93-4ec7-9859-5b5b1b397586"
      },
      "source": [
        "n=len(X)\n",
        "n"
      ],
      "execution_count": null,
      "outputs": [
        {
          "output_type": "execute_result",
          "data": {
            "text/plain": [
              "237"
            ]
          },
          "metadata": {
            "tags": []
          },
          "execution_count": 18
        }
      ]
    },
    {
      "cell_type": "code",
      "metadata": {
        "id": "mQqQmd6f2-_4",
        "colab_type": "code",
        "colab": {
          "base_uri": "https://localhost:8080/",
          "height": 50
        },
        "outputId": "50dd8a87-6079-45aa-87b1-16dbd921e539"
      },
      "source": [
        "num=0\n",
        "denm=0\n",
        "for i in range(n):\n",
        "  num+=(X[i]-meanx)*(Y[i]-meany)\n",
        "  denm+=(X[i]-meanx)**2\n",
        "print(num,denm)\n",
        "m=num/denm\n",
        "c=meany-(meanx*m)\n",
        "print(\"slope of line found is\",m , \"constant is\",c)"
      ],
      "execution_count": 52,
      "outputs": [
        {
          "output_type": "stream",
          "text": [
            "[8294376.74683544] [31486153.98312234]\n",
            "slope of line found is [0.26342934] constant is [325.57342105]\n"
          ],
          "name": "stdout"
        }
      ]
    },
    {
      "cell_type": "code",
      "metadata": {
        "id": "d0JsEjE62-5h",
        "colab_type": "code",
        "colab": {}
      },
      "source": [
        "# Now plotting actual X,Y as scatter plot and our found regression line  "
      ],
      "execution_count": null,
      "outputs": []
    },
    {
      "cell_type": "code",
      "metadata": {
        "id": "GAO4Uie_2-zz",
        "colab_type": "code",
        "colab": {
          "base_uri": "https://localhost:8080/",
          "height": 621
        },
        "outputId": "c3806485-25ff-4a40-8b34-733ec8121183"
      },
      "source": [
        "maxx=np.max(X)+100\n",
        "minx=np.min(X)-100\n",
        "x=np.linspace(minx,maxx,1000)\n",
        "y=x*m+c\n",
        "#Plotting line\n",
        "plt.rcParams['figure.figsize']=(10,10)\n",
        "plt.plot(x,y,color='r',label=\"regression line\")\n",
        "#Plotting Scatter Points\n",
        "plt.scatter(X,Y,color='b',label=\"scatter plot\")\n",
        "plt.xlabel(\"Head Size(cm^3)\")\n",
        "plt.ylabel(\"Brain Weight(grams)\")\n",
        "plt.title(\"Linear Regression\")\n",
        "plt.legend()\n",
        "plt.show()"
      ],
      "execution_count": 57,
      "outputs": [
        {
          "output_type": "display_data",
          "data": {
            "image/png": "[encoded data removed]",
            "text/plain": [
              "<Figure size 720x720 with 1 Axes>"
            ]
          },
          "metadata": {
            "tags": [],
            "needs_background": "light"
          }
        }
      ]
    },
    {
      "cell_type": "code",
      "metadata": {
        "id": "vogHWLS42-wn",
        "colab_type": "code",
        "colab": {
          "base_uri": "https://localhost:8080/",
          "height": 33
        },
        "outputId": "0b0e6fef-d550-418f-861b-ecf9ad312907"
      },
      "source": [
        "# Finding R square error \n",
        "rnumr=0\n",
        "rdenm=0\n",
        "for i in range(n):\n",
        "  ypred=X[i]*m+c\n",
        "  rnumr+=(ypred-meany)**2\n",
        "  rdenm+=(Y[i]-meany)**2\n",
        "r=rnumr/rdenm\n",
        "print(r)"
      ],
      "execution_count": null,
      "outputs": [
        {
          "output_type": "stream",
          "text": [
            "0.6393117199570001\n"
          ],
          "name": "stdout"
        }
      ]
    },
    {
      "cell_type": "code",
      "metadata": {
        "id": "k8ODYoXyErMt",
        "colab_type": "code",
        "colab": {
          "base_uri": "https://localhost:8080/",
          "height": 33
        },
        "outputId": "ad356e78-3f90-40a6-a53d-e5d9eef16cab"
      },
      "source": [
        "# Finding RMSE(root mean square error)\n",
        "rmse=0\n",
        "for i in range(n):\n",
        "  ypred=X[i]*m+c\n",
        "  rmse+=(ypred-Y[i])**2\n",
        "rmse=np.sqrt(rmse/n)\n",
        "print(rmse)"
      ],
      "execution_count": null,
      "outputs": [
        {
          "output_type": "stream",
          "text": [
            "72.1206213783709\n"
          ],
          "name": "stdout"
        }
      ]
    },
    {
      "cell_type": "markdown",
      "metadata": {
        "id": "rBDfmQD9DNcI",
        "colab_type": "text"
      },
      "source": [
        "Using **Sklearn**"
      ]
    },
    {
      "cell_type": "code",
      "metadata": {
        "id": "VBMlx4SV2-cs",
        "colab_type": "code",
        "colab": {
          "base_uri": "https://localhost:8080/",
          "height": 654
        },
        "outputId": "75367c13-8d83-45dc-fb39-68f9363a4d7c"
      },
      "source": [
        "from sklearn.linear_model import LinearRegression\n",
        "from sklearn.metrics import mean_squared_error\n",
        "X=X.reshape((n,1))\n",
        "print(type(X))\n",
        "print(X.shape)\n",
        "#Creating model\n",
        "reg=LinearRegression()\n",
        "#Fitting Training data\n",
        "reg.fit(X,Y)\n",
        "#Predicting Y\n",
        "Y_pred=reg.predict(X)\n",
        "plt.scatter(X,Y,label=\"scatter plot\")\n",
        "plt.plot(X,Y_pred,color='r',label=\"regression line\")\n",
        "plt.xlabel(\"Head Size(cm^3)\")\n",
        "plt.ylabel(\"Brain Weight(grams)\")\n",
        "plt.title(\"Linear Regression\")\n",
        "plt.grid()\n",
        "plt.legend()\n",
        "plt.show()\n"
      ],
      "execution_count": 58,
      "outputs": [
        {
          "output_type": "stream",
          "text": [
            "<class 'numpy.ndarray'>\n",
            "(237, 1)\n"
          ],
          "name": "stdout"
        },
        {
          "output_type": "display_data",
          "data": {
            "image/png": "[encoded data removed]",
            "text/plain": [
              "<Figure size 720x720 with 1 Axes>"
            ]
          },
          "metadata": {
            "tags": [],
            "needs_background": "light"
          }
        }
      ]
    },
    {
      "cell_type": "code",
      "metadata": {
        "id": "w0JAh4NrQ7D1",
        "colab_type": "code",
        "colab": {
          "base_uri": "https://localhost:8080/",
          "height": 50
        },
        "outputId": "3414a68c-c4a9-4ae1-d89d-e181158d7456"
      },
      "source": [
        "# Calculating RMSE and R2 Score\n",
        "mse = mean_squared_error(Y, Y_pred)\n",
        "rmse = np.sqrt(mse)\n",
        "r2_score = reg.score(X, Y)\n",
        "\n",
        "print(\"root mean square error is \" ,np.sqrt(mse))\n",
        "print(\"r square score is \" ,r2_score)\n"
      ],
      "execution_count": 50,
      "outputs": [
        {
          "output_type": "stream",
          "text": [
            "root mean square error is  72.1206213783709\n",
            "r square score is  0.639311719957\n"
          ],
          "name": "stdout"
        }
      ]
    }
  ]
}